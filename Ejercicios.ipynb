{
 "cells": [
  {
   "cell_type": "code",
   "execution_count": 1,
   "metadata": {},
   "outputs": [],
   "source": [
    "import ipynb.fs.full.Funciones as F"
   ]
  },
  {
   "cell_type": "markdown",
   "metadata": {},
   "source": [
    "# Análisis de Circuitos"
   ]
  },
  {
   "cell_type": "markdown",
   "metadata": {},
   "source": [
    "### 1) Calcular el Voltaje \"Vx\" y la potencia consumida por la resistencia R2"
   ]
  },
  {
   "cell_type": "markdown",
   "metadata": {},
   "source": [
    "<img src='img/eje1.png'>"
   ]
  },
  {
   "cell_type": "code",
   "execution_count": 2,
   "metadata": {},
   "outputs": [],
   "source": [
    "R1=2\n",
    "R2=1\n",
    "R3=3\n",
    "R4=4\n",
    "R5=6\n",
    "R6=1.2\n",
    "R7=8\n",
    "R8=12\n",
    "\n",
    "I=6"
   ]
  },
  {
   "cell_type": "code",
   "execution_count": 3,
   "metadata": {},
   "outputs": [
    {
     "name": "stdout",
     "output_type": "stream",
     "text": [
      "El voltaje Vx en la Resistencia 2 es: 2.0\n",
      "La potencia de consumo de la Resistencia 2 es: 4.0\n"
     ]
    }
   ],
   "source": [
    "Req=F.Paralelo(F.Serie(F.Paralelo(R7,R8),R6),F.Serie(R4,F.Paralelo(R3,R5)))\n",
    "Rdiv=F.Serie(Req,R2)\n",
    "IRdiv=F.DivisionCorriente(Rdiv,R1,I)\n",
    "Vx=F.Ohm(R=R2,I=IRdiv)\n",
    "Px=F.Potencia(V=Vx,R=R2)\n",
    "\n",
    "print('El voltaje Vx en la Resistencia 2 es: '+str(round(Vx,2)))\n",
    "print('La potencia de consumo de la Resistencia 2 es: '+str(round(Px,2)))"
   ]
  },
  {
   "cell_type": "markdown",
   "metadata": {},
   "source": [
    "### 2) Calcular los Voltajes V1, V2 y V3"
   ]
  },
  {
   "cell_type": "markdown",
   "metadata": {},
   "source": [
    "<img src='img/eje2.png'>"
   ]
  },
  {
   "cell_type": "code",
   "execution_count": 4,
   "metadata": {},
   "outputs": [],
   "source": [
    "R1=14\n",
    "R2=15\n",
    "R3=10\n",
    "\n",
    "V=40"
   ]
  },
  {
   "cell_type": "code",
   "execution_count": 5,
   "metadata": {},
   "outputs": [
    {
     "name": "stdout",
     "output_type": "stream",
     "text": [
      "Los Voltajes V1, V2 y V3 son: 28.0 V, 12.0 V, 12.0 V\n"
     ]
    }
   ],
   "source": [
    "Req=F.Paralelo(R2,R3)\n",
    "V2=F.DivisionVoltaje(Req,R1,V)\n",
    "V3=V2\n",
    "V1=V-V2\n",
    "\n",
    "print('Los Voltajes V1, V2 y V3 son: {} V, {} V, {} V'.format(str(round(V1,2)),str(round(V2,2)),str(round(V2,2))))"
   ]
  },
  {
   "cell_type": "markdown",
   "metadata": {},
   "source": [
    "### 3) Calcular Voltaje, Corriente y Potencia de la Resistencia de 20k"
   ]
  },
  {
   "cell_type": "markdown",
   "metadata": {},
   "source": [
    "<img src='img/eje3.png'>"
   ]
  },
  {
   "cell_type": "code",
   "execution_count": 6,
   "metadata": {},
   "outputs": [
    {
     "name": "stdout",
     "output_type": "stream",
     "text": [
      "Voltaje de la Resistencia de 20k: 2000.0 V\n",
      "Corriente de la Resistencia de 20k: 0.1 A\n",
      "Potencia de la Resistencia de 20k: 200.0 W\n"
     ]
    }
   ],
   "source": [
    "Vo=F.Ohm(I=5e-3,R=10e3)\n",
    "Idep=F.FDependiente(k=0.01,F=Vo)\n",
    "Idiv=F.DivisionCorriente(20e3,5e3,Idep)\n",
    "Vdiv=F.Ohm(R=20e3,I=Idiv)\n",
    "Pdiv=F.Potencia(I=Idiv,V=Vdiv)\n",
    "\n",
    "print('Voltaje de la Resistencia de 20k: '+str(round(Vdiv,2))+' V')\n",
    "print('Corriente de la Resistencia de 20k: '+str(round(Idiv,2))+' A')\n",
    "print('Potencia de la Resistencia de 20k: '+str(round(Pdiv,2))+' W')"
   ]
  },
  {
   "cell_type": "markdown",
   "metadata": {},
   "source": [
    "### 4) Calcular las corrientes de Malla del Siguiente Circuito"
   ]
  },
  {
   "cell_type": "markdown",
   "metadata": {},
   "source": [
    "<img src='img/eje5.png'>"
   ]
  },
  {
   "cell_type": "code",
   "execution_count": 9,
   "metadata": {},
   "outputs": [
    {
     "name": "stdout",
     "output_type": "stream",
     "text": [
      "La Malla Representada por el Arreglo de Resistencias: \n",
      "[[ 5 -3 -2  0]\n",
      " [-3 10  0 -6]\n",
      " [-2 -6  6 14]\n",
      " [ 0  0 -1  1]]\n",
      "El Arreglo de Entradas: \n",
      "[[30]\n",
      " [ 0]\n",
      " [ 0]\n",
      " [ 4]]\n",
      "Da como resultado: \n",
      "{'i1': 8.561, 'i2': 4.636, 'i3': -0.553, 'i4': 3.447}\n"
     ]
    }
   ],
   "source": [
    "I=['i1','i2','i3','i4']\n",
    "R={'R1':2,'R2':3,'R3':6,'R4':1,'R5':4,'R6':8}\n",
    "M={1:{'V':30,'R':['R1','R2']},2:{'V':0,'R':['R2','R3','R4']},\n",
    "   3:{'V':0,'R':['R1','R5']},4:{'V':0,'R':['R3','R6']}}\n",
    "SM={True:{'I':4,'M':{3:-1,4:1}}}\n",
    "resultados,R,i=F.Mallas(I,R,M,SM)\n",
    "print('La Malla Representada por el Arreglo de Resistencias: ')\n",
    "print(R)\n",
    "print('El Arreglo de Entradas: \\n'+str(i.T))\n",
    "print('Da como resultado: \\n'+str(resultados))"
   ]
  },
  {
   "cell_type": "markdown",
   "metadata": {},
   "source": [
    "### 5) Calcular las corrientes de Malla del Siguiente Circuito"
   ]
  },
  {
   "cell_type": "markdown",
   "metadata": {},
   "source": [
    "<img src='img/eje6.png'>"
   ]
  },
  {
   "cell_type": "code",
   "execution_count": 5,
   "metadata": {},
   "outputs": [
    {
     "name": "stdout",
     "output_type": "stream",
     "text": [
      "La Malla Representada por el Arreglo de Resistencias: \n",
      "[[11 -8]\n",
      " [-2 14]]\n",
      "El Arreglo de Entradas: \n",
      "[[12]\n",
      " [ 0]]\n",
      "Da como resultado: \n",
      "{'i1': 1.217, 'i2': 0.174}\n"
     ]
    }
   ],
   "source": [
    "#Vo=3*i1   >>>   la fuente de voltaje es entonces: 2*3*i1=6*i1 y eso se tomara como carga (R)\n",
    "\n",
    "I=['i1','i2']\n",
    "R={'R1':3,'R2':8,'R3':6,'F1':{'D':1,'k':6}}   #k: Ganancia (Se coloca positiva por el sentido de la corriente)\n",
    "                                            #D: Dependencia con 'N' Malla\n",
    "M={1:{'V':12,'R':['R1','R2']},2:{'V':0,'R':['R2','R3'],'D':['F1']}}\n",
    "\n",
    "resultados,R,i=F.Mallas(I,R,M,SM=False,FD=True)\n",
    "\n",
    "print('La Malla Representada por el Arreglo de Resistencias: ')\n",
    "print(R)\n",
    "print('El Arreglo de Entradas: \\n'+str(i.T))\n",
    "print('Da como resultado: \\n'+str(resultados))"
   ]
  },
  {
   "cell_type": "markdown",
   "metadata": {},
   "source": [
    "### 6) Calcular las voltajes del Siguiente Circuito utilizando LVK"
   ]
  },
  {
   "cell_type": "markdown",
   "metadata": {},
   "source": [
    "<img src='img/eje2.png'>"
   ]
  },
  {
   "cell_type": "code",
   "execution_count": 15,
   "metadata": {},
   "outputs": [
    {
     "name": "stdout",
     "output_type": "stream",
     "text": [
      "v1: 28.0\n",
      "v2: 12.0\n",
      "v3: 12.0\n"
     ]
    }
   ],
   "source": [
    "I=['i1','i2']\n",
    "R={'R1':14,'R2':15,'R3':10}\n",
    "M={1:{'V':40,'R':['R1','R2']},2:{'V':0,'R':['R2','R3']}}\n",
    "\n",
    "I,MR,inp=F.Mallas(I,R,M)\n",
    "V1=I['i1']*R['R1']\n",
    "V2=R['R2']*(I['i1']-I['i2'])\n",
    "V3=I['i2']*R['R3']\n",
    "\n",
    "print('v1: '+str(V1))\n",
    "print('v2: '+str(V2))\n",
    "print('v3: '+str(V3))"
   ]
  },
  {
   "cell_type": "markdown",
   "metadata": {},
   "source": [
    "### 7) Calcular el Voltaje de Thevenin y Resistencia de Thevenin entre Terminales \"a\" y \"b\""
   ]
  },
  {
   "cell_type": "markdown",
   "metadata": {},
   "source": [
    "<img src='img/eje4.png'>"
   ]
  },
  {
   "cell_type": "markdown",
   "metadata": {},
   "source": [
    "#### Voltaje de Thevenin"
   ]
  },
  {
   "cell_type": "code",
   "execution_count": 7,
   "metadata": {},
   "outputs": [
    {
     "name": "stdout",
     "output_type": "stream",
     "text": [
      "Voltaje de Thevenin = 92.0 V\n"
     ]
    }
   ],
   "source": [
    "Vf=40\n",
    "If=3\n",
    "\n",
    "R1=10\n",
    "R2=40\n",
    "R3=20\n",
    "\n",
    "VR3=F.Ohm(I=If,R=R3)\n",
    "VR2=F.DivisionVoltaje(R2,R1,Vf)\n",
    "\n",
    "Vth=VR2+VR3\n",
    "print('Voltaje de Thevenin = '+str(Vth)+' V')"
   ]
  },
  {
   "cell_type": "markdown",
   "metadata": {},
   "source": [
    "#### Resistencia de Thevenin"
   ]
  },
  {
   "cell_type": "code",
   "execution_count": 8,
   "metadata": {},
   "outputs": [
    {
     "name": "stdout",
     "output_type": "stream",
     "text": [
      "Resistencia de Thevenin = 28.0 Ohm\n"
     ]
    }
   ],
   "source": [
    "#Cortocircuito en Vf y Circuito Abierto en If\n",
    "\n",
    "Rth=F.Serie(F.Paralelo(R1,R2),R3)\n",
    "print('Resistencia de Thevenin = '+str(Rth)+ ' Ohm')"
   ]
  }
 ],
 "metadata": {
  "kernelspec": {
   "display_name": "Python 3",
   "language": "python",
   "name": "python3"
  },
  "language_info": {
   "codemirror_mode": {
    "name": "ipython",
    "version": 3
   },
   "file_extension": ".py",
   "mimetype": "text/x-python",
   "name": "python",
   "nbconvert_exporter": "python",
   "pygments_lexer": "ipython3",
   "version": "3.8.5"
  }
 },
 "nbformat": 4,
 "nbformat_minor": 4
}
